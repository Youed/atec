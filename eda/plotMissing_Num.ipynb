{
 "cells": [
  {
   "cell_type": "code",
   "execution_count": 11,
   "metadata": {
    "collapsed": true
   },
   "outputs": [],
   "source": [
    "# numpy, matplotlib, seaborn\n",
    "import numpy as np\n",
    "import pandas as pd\n",
    "import matplotlib.pyplot as plt\n",
    "import seaborn as sns\n",
    "sns.set_style('whitegrid')\n",
    "%matplotlib inline"
   ]
  },
  {
   "cell_type": "code",
   "execution_count": 12,
   "metadata": {
    "collapsed": true
   },
   "outputs": [],
   "source": [
    "def read_CSV(csvPath, DeleteId=True, SupervisedLearning=True,nrows=990006):\n",
    "    '''\n",
    "    读入csv文件，如果训练无监督学习删除label = -1 的列\n",
    "    :param csvPath:\n",
    "    :param SupervisedLearning:\n",
    "    :return:\n",
    "    '''\n",
    "    df = pd.read_csv(csvPath,nrows=nrows)\n",
    "    #df = pd.read_csv(csvPath)\n",
    "    if DeleteId:\n",
    "        df.drop('id', 1, inplace=True)\n",
    "    if SupervisedLearning:\n",
    "        list = np.where(df.label == -1)  # 删除-1的行，当监督学习\n",
    "        df.drop(df.index[list], inplace=True)\n",
    "    else:\n",
    "        pass\n",
    "    return df\n",
    "\n",
    "\n",
    "def plotMissing_Num(df):\n",
    "    '''\n",
    "    按行统计每个样本的属性缺失值个数，将缺失值个数从小到大排序，以序号为横坐标，\n",
    "   缺失值个数为纵坐标，画出散点图,以此来观察异常值\n",
    "   对比 trainset 和 testset 上的样本的属性缺失值个数，可以发现其分布基本一致\n",
    "    '''\n",
    "    df['missing_num'] = df.apply(lambda x : (len(x)-x.count()),axis=1)\n",
    "    plt.scatter(df.index,sorted(df['missing_num']))\n",
    "    df.drop('missing_num',1,inplace=True)"
   ]
  },
  {
   "cell_type": "code",
   "execution_count": 13,
   "metadata": {},
   "outputs": [],
   "source": [
    "train = read_CSV('atec_anti_fraud_train.csv')\n",
    "test = read_CSV('atec_anti_fraud_test_a.csv',SupervisedLearning=False)"
   ]
  },
  {
   "cell_type": "code",
   "execution_count": 15,
   "metadata": {},
   "outputs": [
    {
     "data": {
      "image/png": "[encoded data removed]",
      "text/plain": [
       "<matplotlib.figure.Figure at 0x1dd6a898>"
      ]
     },
     "metadata": {},
     "output_type": "display_data"
    }
   ],
   "source": [
    "plotMissing_Num(train)"
   ]
  },
  {
   "cell_type": "code",
   "execution_count": 16,
   "metadata": {},
   "outputs": [
    {
     "data": {
      "image/png": "[encoded data removed]",
      "text/plain": [
       "<matplotlib.figure.Figure at 0xa0b7ebe0>"
      ]
     },
     "metadata": {},
     "output_type": "display_data"
    }
   ],
   "source": [
    "plotMissing_Num(test)"
   ]
  },
  {
   "cell_type": "code",
   "execution_count": null,
   "metadata": {
    "collapsed": true
   },
   "outputs": [],
   "source": []
  }
 ],
 "metadata": {
  "kernelspec": {
   "display_name": "Python 2",
   "language": "python",
   "name": "python2"
  },
  "language_info": {
   "codemirror_mode": {
    "name": "ipython",
    "version": 2
   },
   "file_extension": ".py",
   "mimetype": "text/x-python",
   "name": "python",
   "nbconvert_exporter": "python",
   "pygments_lexer": "ipython2",
   "version": "2.7.13"
  }
 },
 "nbformat": 4,
 "nbformat_minor": 2
}
